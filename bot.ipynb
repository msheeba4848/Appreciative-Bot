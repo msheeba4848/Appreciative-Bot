{
 "cells": [
  {
   "cell_type": "code",
   "execution_count": 1,
   "metadata": {},
   "outputs": [
    {
     "name": "stdout",
     "output_type": "stream",
     "text": [
      "✅ Email sent to moghalsheebawork@gmail.com\n"
     ]
    }
   ],
   "source": [
    "import smtplib\n",
    "from email.mime.text import MIMEText\n",
    "\n",
    "# ✅ Use Your App Password Instead of Regular Password\n",
    "EMAIL_ADDRESS = \"msheeba00@gmail.com\"\n",
    "EMAIL_PASSWORD = \"soqk axdu tfni wprs\"\n",
    "\n",
    "def send_fast_email(receiver_email, subject, message_body):\n",
    "    try:\n",
    "        msg = MIMEText(message_body)\n",
    "        msg[\"From\"] = EMAIL_ADDRESS\n",
    "        msg[\"To\"] = receiver_email\n",
    "        msg[\"Subject\"] = subject\n",
    "\n",
    "        with smtplib.SMTP(\"smtp.gmail.com\", 587) as server:\n",
    "            server.starttls()\n",
    "            server.login(EMAIL_ADDRESS, EMAIL_PASSWORD)\n",
    "            server.sendmail(EMAIL_ADDRESS, receiver_email, msg.as_string())\n",
    "\n",
    "        print(f\"✅ Email sent to {receiver_email}\")\n",
    "\n",
    "    except Exception as e:\n",
    "        print(f\"❌ Email failed: {e}\")\n",
    "\n",
    "# Example Usage\n",
    "send_fast_email(\"moghalsheebawork@gmail.com\", \"💖 Love Note 💖\", \"Hey love, thinking about you! 💕\")\n"
   ]
  }
 ],
 "metadata": {
  "kernelspec": {
   "display_name": "new_env",
   "language": "python",
   "name": "python3"
  },
  "language_info": {
   "codemirror_mode": {
    "name": "ipython",
    "version": 3
   },
   "file_extension": ".py",
   "mimetype": "text/x-python",
   "name": "python",
   "nbconvert_exporter": "python",
   "pygments_lexer": "ipython3",
   "version": "3.10.14"
  }
 },
 "nbformat": 4,
 "nbformat_minor": 2
}
